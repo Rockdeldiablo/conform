{
 "cells": [
  {
   "cell_type": "code",
   "execution_count": 2,
   "metadata": {},
   "outputs": [],
   "source": [
    "import os\n",
    "import wget\n",
    "import zipfile\n",
    "from os.path import exists\n",
    "import pandas as pd\n",
    "import numpy as np\n",
    "from sklearn.model_selection import train_test_split\n",
    "from sklearn.preprocessing import LabelEncoder\n",
    "from sklearn.naive_bayes import GaussianNB\n",
    "from sklearn.metrics import confusion_matrix\n",
    "import matplotlib.pyplot as plt"
   ]
  },
  {
   "cell_type": "code",
   "execution_count": 3,
   "metadata": {},
   "outputs": [],
   "source": [
    "bean_data_file= \"./DryBeanDataset/Dry_Bean_Dataset.xlsx\"\n",
    "base= \"https://archive.ics.uci.edu/ml/machine-learning-databases/\"\n",
    "dataset_number= \"00602\"\n",
    "if not exists(bean_data_file):\n",
    "    filename=\"DryBeanDataset.zip\"\n",
    "    url = base + dataset_number+\"/\"+ filename\n",
    "    wget.download(url)\n",
    "    with zipfile.ZipFile(filename,\"r\") as zip_ref:\n",
    "        zip_ref.extractall(\"./\")\n",
    "        os.remove(filename)"
   ]
  },
  {
   "cell_type": "markdown",
   "metadata": {},
   "source": [
    "# bad model  "
   ]
  },
  {
   "cell_type": "code",
   "execution_count": 4,
   "metadata": {},
   "outputs": [],
   "source": [
    "#read excel file\n",
    "beans = pd.read_excel(bean_data_file)\n",
    "#Labels are characters that needs to be converted to integer for sklearn\n",
    "le= LabelEncoder()\n",
    "beans[\"Class\"]= le.fit_transform(beans[\"Class\"])\n",
    "# split data into classification target and feature\n",
    "y= beans[\"Class\"]\n",
    "X = beans.drop(\"Class\",axis=1)\n",
    "#split of training data\n",
    "X_train,X_rest1,y_train,y_rest1= train_test_split(X,y,train_size=10000,random_state=22)\n",
    "#split of rest data in 2 groups\n",
    "\n",
    "X_test,X_rest2,y_test,y_rest2= train_test_split(X_rest1,y_rest1, train_size=1000,random_state=42)\n",
    "\n",
    "#split remaining in calibration data and \"new\" data for the conformal prediction step and for evaluating the conformal predictor\n",
    "\n",
    "X_calib,X_new,y_calib,y_new= train_test_split(X_rest2,y_rest2, train_size=1000,random_state=33)\n",
    "\n",
    "#fit the model\n",
    "model= GaussianNB().fit(X_train,y_train)\n"
   ]
  },
  {
   "cell_type": "code",
   "execution_count": 5,
   "metadata": {},
   "outputs": [
    {
     "name": "stdout",
     "output_type": "stream",
     "text": [
      "Accuracy: 0.743\n",
      "          BARBUNYA  BOMBAY  CALI  DERMASON  HOROZ  SEKER  SIRA\n",
      "BARBUNYA        36       0    53         0     13      0     2\n",
      "BOMBAY           0      32     0         0      0      0     0\n",
      "CALI            33       0    96         0      5      0     1\n",
      "DERMASON         0       0     0       210      0     30    10\n",
      "HOROZ            3       0     4         3    109      0    21\n",
      "SEKER            2       0     0        24      0    114    18\n",
      "SIRA             0       0     0         7     17     11   146\n"
     ]
    }
   ],
   "source": [
    "#check accuracy\n",
    "y_pred = model.predict(X_test)\n",
    "print(f\"Accuracy: {(y_pred== y_test).mean()}\")\n",
    "#crreate confusion matrix\n",
    "cm= confusion_matrix(y_test,y_pred)\n",
    "print(pd.DataFrame(cm,index= le.classes_,columns= le.classes_))"
   ]
  },
  {
   "cell_type": "markdown",
   "metadata": {},
   "source": [
    "# first try: a naive approach to improve the model"
   ]
  },
  {
   "cell_type": "code",
   "execution_count": 6,
   "metadata": {},
   "outputs": [
    {
     "name": "stdout",
     "output_type": "stream",
     "text": [
      "0.92\n"
     ]
    }
   ],
   "source": [
    "predictions= model.predict_proba(X_calib)\n",
    "#get for each instance the highest probability\n",
    "high_prob_predictions= np.amax(predictions,axis=1)\n",
    "#select only those where the probability is  over 95%\n",
    "high_p_beans= np.where(high_prob_predictions>=0.95)\n",
    "#let's count how often we hit the right label\n",
    "its_a_match= (model.predict(X_calib)==y_calib)\n",
    "coverage= np.mean(its_a_match.values[high_p_beans])\n",
    "print(round(coverage,3))"
   ]
  },
  {
   "cell_type": "markdown",
   "metadata": {},
   "source": [
    "# second attempt : conformal classification"
   ]
  },
  {
   "cell_type": "markdown",
   "metadata": {},
   "source": [
    "0.92!= 0.95 wrong coverage.  instead of using the model probabilities we use the model prediction to build a measure of uncertainty:\n",
    "\n",
    "s_i= 1- f(x_i)[y_i]\n",
    "\n",
    "a notation that mean that we take 1 minus the probability of the true class. This is known as the non-conformity score and measure how unusual a suggested outcome is given the model output for x_i.\n",
    "to decide which of the conformal predictions are \"conformal\", conformal prediction calculates a treshold based on the non-conformity scores of the calibration data in combination with the true labels.\n",
    "the sequence is like this:\n",
    "1. start with the data not used for training\n",
    "2. Calculate the scores s_i\n",
    "3. sort the scores from low (certain) to high (uncertain)\n",
    "4. compute the threshold $\\hat q$ where 95% of the s_i are smaller (= 95% quantile)\n"
   ]
  },
  {
   "cell_type": "code",
   "execution_count": 7,
   "metadata": {},
   "outputs": [],
   "source": [
    "n = len(X_calib)\n",
    "#get the probability predictions\n",
    "predictions= model.predict_proba(X_calib)\n",
    "#we only need the probability for the true class\n",
    "prob_true_class= predictions[np.arange(n),y_calib]\n",
    "scores= 1- prob_true_class\n",
    "#set the alpha so that 1-alpha is 0.95\n",
    "alpha= 0.05\n",
    "#define quantile\n",
    "q_level= np.ceil((n+1)*(1-alpha))/n\n",
    "qhat= np.quantile(scores,q_level, method=\"higher\")"
   ]
  },
  {
   "cell_type": "code",
   "execution_count": 8,
   "metadata": {},
   "outputs": [
    {
     "data": {
      "image/png": "[encoded data removed]",
      "text/plain": [
       "<Figure size 640x480 with 1 Axes>"
      ]
     },
     "metadata": {},
     "output_type": "display_data"
    }
   ],
   "source": [
    "#matplotlib plot\n",
    "\n",
    "#get the probabilities from the model\n",
    "predictions=model.predict_proba(X_calib)\n",
    "#get for each instance the actual probability of the ground truth\n",
    "prob_for_true_class = predictions[np.arange(len(y_calib)),y_calib]\n",
    "plt.hist(1-prob_for_true_class,bins=30,range=(0,1))\n",
    "plt.xlabel(\"1-s(y,x)\")\n",
    "plt.ylabel(\"Frequency\")\n",
    "plt.show()"
   ]
  },
  {
   "cell_type": "code",
   "execution_count": 13,
   "metadata": {},
   "outputs": [
    {
     "name": "stdout",
     "output_type": "stream",
     "text": [
      "['HOROZ' 'SIRA']\n",
      "['SIRA']\n",
      "['BARBUNYA' 'CALI']\n"
     ]
    }
   ],
   "source": [
    "predictions_sets= (1-model.predict_proba(X_new)<=qhat)\n",
    "for i in range(3):\n",
    "    print(le.classes_[predictions_sets[i]])"
   ]
  },
  {
   "cell_type": "markdown",
   "metadata": {},
   "source": [
    "On average, the prediction sets cover the true class with a probability of 95%"
   ]
  },
  {
   "cell_type": "markdown",
   "metadata": {},
   "source": [
    "# MAPIE\n",
    "MAPIE is a python library for conformal prediction"
   ]
  },
  {
   "cell_type": "code",
   "execution_count": 18,
   "metadata": {},
   "outputs": [
    {
     "name": "stdout",
     "output_type": "stream",
     "text": [
      "(1611, 7, 1)\n",
      "(1611, 7)\n"
     ]
    }
   ],
   "source": [
    "from mapie.classification import MapieClassifier\n",
    "cp= MapieClassifier(estimator= model,cv=\"prefit\",method=\"score\")\n",
    "cp.fit(X_calib,y_calib)\n",
    "y_pred,y_set=  cp.predict(X_new,alpha=0.05) #provide an array to alpha if you want to see the prediction sets for different values of alpha\n",
    "print(np.shape(y_set))\n",
    "y_set=np.squeeze(y_set)\n",
    "print(np.shape(y_set))"
   ]
  },
  {
   "cell_type": "code",
   "execution_count": 17,
   "metadata": {},
   "outputs": [
    {
     "name": "stdout",
     "output_type": "stream",
     "text": [
      "['HOROZ' 'SIRA']\n",
      "['SIRA']\n",
      "['BARBUNYA' 'CALI']\n",
      "['SEKER']\n",
      "['BOMBAY']\n"
     ]
    }
   ],
   "source": [
    "for i in range(5):\n",
    "    print(le.classes_[y_set[i]])"
   ]
  },
  {
   "cell_type": "code",
   "execution_count": 22,
   "metadata": {},
   "outputs": [
    {
     "name": "stdout",
     "output_type": "stream",
     "text": [
      "[2 1 2 ... 3 2 1]\n",
      "2    789\n",
      "1    678\n",
      "3    144\n",
      "Name: count, dtype: int64\n"
     ]
    }
   ],
   "source": [
    "#count number of classes per bean\n",
    "set_sizes= y_set.sum(axis=1)\n",
    "print(set_sizes)\n",
    "#use pandas to compute how often each size occurs\n",
    "print(pd.Series(set_sizes).value_counts())"
   ]
  },
  {
   "cell_type": "code",
   "execution_count": null,
   "metadata": {},
   "outputs": [],
   "source": [
    "#use a pandas dataframe to hold the results\n",
    "\n"
   ]
  }
 ],
 "metadata": {
  "kernelspec": {
   "display_name": "conformal_env",
   "language": "python",
   "name": "python3"
  },
  "language_info": {
   "codemirror_mode": {
    "name": "ipython",
    "version": 3
   },
   "file_extension": ".py",
   "mimetype": "text/x-python",
   "name": "python",
   "nbconvert_exporter": "python",
   "pygments_lexer": "ipython3",
   "version": "3.12.1"
  }
 },
 "nbformat": 4,
 "nbformat_minor": 2
}
