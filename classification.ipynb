{
 "cells": [
  {
   "cell_type": "code",
   "execution_count": 2,
   "metadata": {},
   "outputs": [],
   "source": [
    "import os\n",
    "import wget\n",
    "import zipfile\n",
    "from os.path import exists\n",
    "import pandas as pd\n",
    "import numpy as np\n",
    "from sklearn.model_selection import train_test_split\n",
    "from sklearn.preprocessing import LabelEncoder\n",
    "from sklearn.naive_bayes import GaussianNB\n",
    "from sklearn.metrics import confusion_matrix\n",
    "import matplotlib.pyplot as plt\n",
    "from mapie.classification import MapieClassifier\n",
    "from mapie.metrics import classification_coverage_score\n",
    "from mapie.metrics import classification_mean_width_score"
   ]
  },
  {
   "cell_type": "code",
   "execution_count": 3,
   "metadata": {},
   "outputs": [],
   "source": [
    "bean_data_file= \"./DryBeanDataset/Dry_Bean_Dataset.xlsx\"\n",
    "base= \"https://archive.ics.uci.edu/ml/machine-learning-databases/\"\n",
    "dataset_number= \"00602\"\n",
    "if not exists(bean_data_file):\n",
    "    filename=\"DryBeanDataset.zip\"\n",
    "    url = base + dataset_number+\"/\"+ filename\n",
    "    wget.download(url)\n",
    "    with zipfile.ZipFile(filename,\"r\") as zip_ref:\n",
    "        zip_ref.extractall(\"./\")\n",
    "        os.remove(filename)"
   ]
  },
  {
   "cell_type": "markdown",
   "metadata": {},
   "source": [
    "# bad model  "
   ]
  },
  {
   "cell_type": "code",
   "execution_count": 4,
   "metadata": {},
   "outputs": [],
   "source": [
    "#read excel file\n",
    "beans = pd.read_excel(bean_data_file)\n",
    "#Labels are characters that needs to be converted to integer for sklearn\n",
    "le= LabelEncoder()\n",
    "beans[\"Class\"]= le.fit_transform(beans[\"Class\"])\n",
    "# split data into classification target and feature\n",
    "y= beans[\"Class\"]\n",
    "X = beans.drop(\"Class\",axis=1)\n",
    "#split of training data\n",
    "X_train,X_rest1,y_train,y_rest1= train_test_split(X,y,train_size=10000,random_state=22)\n",
    "#split of rest data in 2 groups\n",
    "\n",
    "X_test,X_rest2,y_test,y_rest2= train_test_split(X_rest1,y_rest1, train_size=1000,random_state=42)\n",
    "\n",
    "#split remaining in calibration data and \"new\" data for the conformal prediction step and for evaluating the conformal predictor\n",
    "\n",
    "X_calib,X_new,y_calib,y_new= train_test_split(X_rest2,y_rest2, train_size=1000,random_state=33)\n",
    "\n",
    "#fit the model\n",
    "model= GaussianNB().fit(X_train,y_train)\n"
   ]
  },
  {
   "cell_type": "code",
   "execution_count": 5,
   "metadata": {},
   "outputs": [
    {
     "data": {
      "text/plain": [
       "pandas.core.series.Series"
      ]
     },
     "execution_count": 5,
     "metadata": {},
     "output_type": "execute_result"
    }
   ],
   "source": [
    "type(y_new)"
   ]
  },
  {
   "cell_type": "code",
   "execution_count": 6,
   "metadata": {},
   "outputs": [
    {
     "name": "stdout",
     "output_type": "stream",
     "text": [
      "Accuracy: 0.743\n",
      "          BARBUNYA  BOMBAY  CALI  DERMASON  HOROZ  SEKER  SIRA\n",
      "BARBUNYA        36       0    53         0     13      0     2\n",
      "BOMBAY           0      32     0         0      0      0     0\n",
      "CALI            33       0    96         0      5      0     1\n",
      "DERMASON         0       0     0       210      0     30    10\n",
      "HOROZ            3       0     4         3    109      0    21\n",
      "SEKER            2       0     0        24      0    114    18\n",
      "SIRA             0       0     0         7     17     11   146\n"
     ]
    }
   ],
   "source": [
    "#check accuracy\n",
    "y_pred = model.predict(X_test)\n",
    "print(f\"Accuracy: {(y_pred== y_test).mean()}\")\n",
    "#crreate confusion matrix\n",
    "cm= confusion_matrix(y_test,y_pred)\n",
    "print(pd.DataFrame(cm,index= le.classes_,columns= le.classes_))"
   ]
  },
  {
   "cell_type": "markdown",
   "metadata": {},
   "source": [
    "# first try: a naive approach to improve the model"
   ]
  },
  {
   "cell_type": "code",
   "execution_count": 7,
   "metadata": {},
   "outputs": [
    {
     "name": "stdout",
     "output_type": "stream",
     "text": [
      "0.92\n"
     ]
    }
   ],
   "source": [
    "predictions= model.predict_proba(X_calib)\n",
    "#get for each instance the highest probability\n",
    "high_prob_predictions= np.amax(predictions,axis=1)\n",
    "#select only those where the probability is  over 95%\n",
    "high_p_beans= np.where(high_prob_predictions>=0.95)\n",
    "#let's count how often we hit the right label\n",
    "its_a_match= (model.predict(X_calib)==y_calib)\n",
    "coverage= np.mean(its_a_match.values[high_p_beans])\n",
    "print(round(coverage,3))"
   ]
  },
  {
   "cell_type": "markdown",
   "metadata": {},
   "source": [
    "# second attempt : conformal classification"
   ]
  },
  {
   "cell_type": "markdown",
   "metadata": {},
   "source": [
    "0.92!= 0.95 wrong coverage.  instead of using the model probabilities we use the model prediction to build a measure of uncertainty:\n",
    "\n",
    "s_i= 1- f(x_i)[y_i]\n",
    "\n",
    "a notation that mean that we take 1 minus the probability of the true class. This is known as the non-conformity score and measure how unusual a suggested outcome is given the model output for x_i.\n",
    "to decide which of the conformal predictions are \"conformal\", conformal prediction calculates a treshold based on the non-conformity scores of the calibration data in combination with the true labels.\n",
    "the sequence is like this:\n",
    "1. start with the data not used for training\n",
    "2. Calculate the scores s_i\n",
    "3. sort the scores from low (certain) to high (uncertain)\n",
    "4. compute the threshold $\\hat q$ where 95% of the s_i are smaller (= 95% quantile)\n"
   ]
  },
  {
   "cell_type": "code",
   "execution_count": 8,
   "metadata": {},
   "outputs": [],
   "source": [
    "n = len(X_calib)\n",
    "#get the probability predictions\n",
    "predictions= model.predict_proba(X_calib)\n",
    "#we only need the probability for the true class\n",
    "prob_true_class= predictions[np.arange(n),y_calib]\n",
    "scores= 1- prob_true_class\n",
    "#set the alpha so that 1-alpha is 0.95\n",
    "alpha= 0.05\n",
    "#define quantile\n",
    "q_level= np.ceil((n+1)*(1-alpha))/n\n",
    "qhat= np.quantile(scores,q_level, method=\"higher\")"
   ]
  },
  {
   "cell_type": "code",
   "execution_count": 9,
   "metadata": {},
   "outputs": [
    {
     "data": {
      "image/png": "[encoded data removed]",
      "text/plain": [
       "<Figure size 640x480 with 1 Axes>"
      ]
     },
     "metadata": {},
     "output_type": "display_data"
    }
   ],
   "source": [
    "#matplotlib plot\n",
    "\n",
    "#get the probabilities from the model\n",
    "predictions=model.predict_proba(X_calib)\n",
    "#get for each instance the actual probability of the ground truth\n",
    "prob_for_true_class = predictions[np.arange(len(y_calib)),y_calib]\n",
    "plt.hist(1-prob_for_true_class,bins=30,range=(0,1))\n",
    "plt.xlabel(\"1-s(y,x)\")\n",
    "plt.ylabel(\"Frequency\")\n",
    "plt.show()"
   ]
  },
  {
   "cell_type": "code",
   "execution_count": 10,
   "metadata": {},
   "outputs": [
    {
     "name": "stdout",
     "output_type": "stream",
     "text": [
      "['HOROZ' 'SIRA']\n",
      "['SIRA']\n",
      "['BARBUNYA' 'CALI']\n"
     ]
    }
   ],
   "source": [
    "predictions_sets= (1-model.predict_proba(X_new)<=qhat)\n",
    "for i in range(3):\n",
    "    print(le.classes_[predictions_sets[i]])"
   ]
  },
  {
   "cell_type": "markdown",
   "metadata": {},
   "source": [
    "On average, the prediction sets cover the true class with a probability of 95%"
   ]
  },
  {
   "cell_type": "markdown",
   "metadata": {},
   "source": [
    "# MAPIE\n",
    "MAPIE is a python library for conformal prediction"
   ]
  },
  {
   "cell_type": "markdown",
   "metadata": {},
   "source": [
    "## metodo score"
   ]
  },
  {
   "cell_type": "code",
   "execution_count": 11,
   "metadata": {},
   "outputs": [
    {
     "name": "stdout",
     "output_type": "stream",
     "text": [
      "(1611, 7, 1)\n",
      "(1611, 7)\n"
     ]
    }
   ],
   "source": [
    "from mapie.classification import MapieClassifier\n",
    "cp= MapieClassifier(estimator= model,cv=\"prefit\",method=\"score\")\n",
    "cp.fit(X_calib,y_calib)\n",
    "y_pred,y_set=  cp.predict(X_new,alpha=0.05) #provide an array to alpha if you want to see the prediction sets for different values of alpha\n",
    "print(np.shape(y_set))\n",
    "y_set=np.squeeze(y_set)\n",
    "print(np.shape(y_set))"
   ]
  },
  {
   "cell_type": "code",
   "execution_count": 12,
   "metadata": {},
   "outputs": [
    {
     "name": "stdout",
     "output_type": "stream",
     "text": [
      "['HOROZ' 'SIRA']\n",
      "['SIRA']\n",
      "['BARBUNYA' 'CALI']\n",
      "['SEKER']\n",
      "['BOMBAY']\n"
     ]
    }
   ],
   "source": [
    "for i in range(5):\n",
    "    print(le.classes_[y_set[i]])"
   ]
  },
  {
   "cell_type": "code",
   "execution_count": 13,
   "metadata": {},
   "outputs": [
    {
     "name": "stdout",
     "output_type": "stream",
     "text": [
      "[2 1 2 ... 3 2 1]\n",
      "2    789\n",
      "1    678\n",
      "3    144\n",
      "Name: count, dtype: int64\n"
     ]
    }
   ],
   "source": [
    "#count number of classes per bean\n",
    "set_sizes= y_set.sum(axis=1)\n",
    "print(set_sizes)\n",
    "#use pandas to compute how often each size occurs\n",
    "print(pd.Series(set_sizes).value_counts())"
   ]
  },
  {
   "cell_type": "code",
   "execution_count": 14,
   "metadata": {},
   "outputs": [],
   "source": [
    "#use a pandas dataframe to hold the results\n",
    "\n",
    "y_pred,y_set= cp.predict(X_new,alpha=0.05)\n",
    "y_set= np.squeeze(y_set)\n",
    "df= pd.DataFrame()\n",
    "for i in range(len(y_pred)):\n",
    "    predset= le.classes_[y_set[i]]\n",
    "    temp_df= pd.DataFrame({\"set\":[predset],\"setsize\":[len(predset)]},index=[i])\n",
    "    df=pd.concat([df,temp_df])"
   ]
  },
  {
   "cell_type": "code",
   "execution_count": 15,
   "metadata": {},
   "outputs": [
    {
     "name": "stdout",
     "output_type": "stream",
     "text": [
      "                set  setsize\n",
      "0     [HOROZ, SIRA]        2\n",
      "1            [SIRA]        1\n",
      "2  [BARBUNYA, CALI]        2\n",
      "3           [SEKER]        1\n",
      "4          [BOMBAY]        1\n"
     ]
    }
   ],
   "source": [
    "print(df.head())"
   ]
  },
  {
   "cell_type": "markdown",
   "metadata": {},
   "source": [
    "## naive method"
   ]
  },
  {
   "cell_type": "code",
   "execution_count": 16,
   "metadata": {},
   "outputs": [],
   "source": [
    "mapie_score= MapieClassifier(model,cv=\"prefit\",method= \"naive\")\n",
    "mapie_score.fit(X_train,y_train)\n",
    "y_pred,y_set= mapie_score.predict(X_new,alpha=0.05)\n",
    "y_set= np.squeeze(y_set)"
   ]
  },
  {
   "cell_type": "code",
   "execution_count": 17,
   "metadata": {},
   "outputs": [
    {
     "name": "stdout",
     "output_type": "stream",
     "text": [
      "Coverage: 89.45%/n Average set size:  1.39\n"
     ]
    }
   ],
   "source": [
    "cov= classification_coverage_score(y_new,y_set)\n",
    "setsize= classification_mean_width_score(y_set)\n",
    "print(f\"Coverage:{cov: .2%}/n Average set size: {setsize: .2f}\")"
   ]
  },
  {
   "cell_type": "markdown",
   "metadata": {},
   "source": [
    "the coverage is too low because the scores in the training date are not suitable for finding the threshold $\\hat q$ . the model is too overconfident and therefore the coverage is too low for new data."
   ]
  },
  {
   "cell_type": "markdown",
   "metadata": {},
   "source": [
    "### check coverage by class"
   ]
  },
  {
   "cell_type": "code",
   "execution_count": 18,
   "metadata": {},
   "outputs": [],
   "source": [
    "def class_wise_performance(y_new,y_set,classes):\n",
    "    df= pd.DataFrame()\n",
    "    for i in range(len(classes)):\n",
    "        ynew= y_new.values[y_new.values==i]\n",
    "        yscore = y_set[y_new.values==i]\n",
    "        cov= classification_coverage_score(ynew,yscore)\n",
    "        size= classification_mean_width_score(yscore)\n",
    "\n",
    "        temp_df=pd.DataFrame({\"class\":[classes[i]],\"coverage\":[cov],\"avg. set size\":[size]},index=[i])\n",
    "\n",
    "        df=pd.concat([df,temp_df])\n",
    "    return(df)"
   ]
  },
  {
   "cell_type": "code",
   "execution_count": 19,
   "metadata": {},
   "outputs": [
    {
     "name": "stdout",
     "output_type": "stream",
     "text": [
      "      class  coverage  avg. set size\n",
      "0  BARBUNYA  0.830065       1.732026\n",
      "1    BOMBAY  1.000000       1.000000\n",
      "2      CALI  0.911111       1.577778\n",
      "3  DERMASON  0.922353       1.244706\n",
      "4     HOROZ  0.840816       1.351020\n",
      "5     SEKER  0.887967       1.448133\n",
      "6      SIRA  0.903974       1.380795\n"
     ]
    }
   ],
   "source": [
    "print(class_wise_performance(y_new,y_set,le.classes_))"
   ]
  },
  {
   "cell_type": "markdown",
   "metadata": {},
   "source": [
    "## aps (adaptive prediction sets) method in MAPIE"
   ]
  },
  {
   "cell_type": "code",
   "execution_count": 20,
   "metadata": {},
   "outputs": [
    {
     "data": {
      "text/html": [
       "<style>#sk-container-id-1 {color: black;}#sk-container-id-1 pre{padding: 0;}#sk-container-id-1 div.sk-toggleable {background-color: white;}#sk-container-id-1 label.sk-toggleable__label {cursor: pointer;display: block;width: 100%;margin-bottom: 0;padding: 0.3em;box-sizing: border-box;text-align: center;}#sk-container-id-1 label.sk-toggleable__label-arrow:before {content: \"▸\";float: left;margin-right: 0.25em;color: #696969;}#sk-container-id-1 label.sk-toggleable__label-arrow:hover:before {color: black;}#sk-container-id-1 div.sk-estimator:hover label.sk-toggleable__label-arrow:before {color: black;}#sk-container-id-1 div.sk-toggleable__content {max-height: 0;max-width: 0;overflow: hidden;text-align: left;background-color: #f0f8ff;}#sk-container-id-1 div.sk-toggleable__content pre {margin: 0.2em;color: black;border-radius: 0.25em;background-color: #f0f8ff;}#sk-container-id-1 input.sk-toggleable__control:checked~div.sk-toggleable__content {max-height: 200px;max-width: 100%;overflow: auto;}#sk-container-id-1 input.sk-toggleable__control:checked~label.sk-toggleable__label-arrow:before {content: \"▾\";}#sk-container-id-1 div.sk-estimator input.sk-toggleable__control:checked~label.sk-toggleable__label {background-color: #d4ebff;}#sk-container-id-1 div.sk-label input.sk-toggleable__control:checked~label.sk-toggleable__label {background-color: #d4ebff;}#sk-container-id-1 input.sk-hidden--visually {border: 0;clip: rect(1px 1px 1px 1px);clip: rect(1px, 1px, 1px, 1px);height: 1px;margin: -1px;overflow: hidden;padding: 0;position: absolute;width: 1px;}#sk-container-id-1 div.sk-estimator {font-family: monospace;background-color: #f0f8ff;border: 1px dotted black;border-radius: 0.25em;box-sizing: border-box;margin-bottom: 0.5em;}#sk-container-id-1 div.sk-estimator:hover {background-color: #d4ebff;}#sk-container-id-1 div.sk-parallel-item::after {content: \"\";width: 100%;border-bottom: 1px solid gray;flex-grow: 1;}#sk-container-id-1 div.sk-label:hover label.sk-toggleable__label {background-color: #d4ebff;}#sk-container-id-1 div.sk-serial::before {content: \"\";position: absolute;border-left: 1px solid gray;box-sizing: border-box;top: 0;bottom: 0;left: 50%;z-index: 0;}#sk-container-id-1 div.sk-serial {display: flex;flex-direction: column;align-items: center;background-color: white;padding-right: 0.2em;padding-left: 0.2em;position: relative;}#sk-container-id-1 div.sk-item {position: relative;z-index: 1;}#sk-container-id-1 div.sk-parallel {display: flex;align-items: stretch;justify-content: center;background-color: white;position: relative;}#sk-container-id-1 div.sk-item::before, #sk-container-id-1 div.sk-parallel-item::before {content: \"\";position: absolute;border-left: 1px solid gray;box-sizing: border-box;top: 0;bottom: 0;left: 50%;z-index: -1;}#sk-container-id-1 div.sk-parallel-item {display: flex;flex-direction: column;z-index: 1;position: relative;background-color: white;}#sk-container-id-1 div.sk-parallel-item:first-child::after {align-self: flex-end;width: 50%;}#sk-container-id-1 div.sk-parallel-item:last-child::after {align-self: flex-start;width: 50%;}#sk-container-id-1 div.sk-parallel-item:only-child::after {width: 0;}#sk-container-id-1 div.sk-dashed-wrapped {border: 1px dashed gray;margin: 0 0.4em 0.5em 0.4em;box-sizing: border-box;padding-bottom: 0.4em;background-color: white;}#sk-container-id-1 div.sk-label label {font-family: monospace;font-weight: bold;display: inline-block;line-height: 1.2em;}#sk-container-id-1 div.sk-label-container {text-align: center;}#sk-container-id-1 div.sk-container {/* jupyter's `normalize.less` sets `[hidden] { display: none; }` but bootstrap.min.css set `[hidden] { display: none !important; }` so we also need the `!important` here to be able to override the default hidden behavior on the sphinx rendered scikit-learn.org. See: https://github.com/scikit-learn/scikit-learn/issues/21755 */display: inline-block !important;position: relative;}#sk-container-id-1 div.sk-text-repr-fallback {display: none;}</style><div id=\"sk-container-id-1\" class=\"sk-top-container\"><div class=\"sk-text-repr-fallback\"><pre>MapieClassifier(cv=&#x27;prefit&#x27;, estimator=GaussianNB(), method=&#x27;cumulated_score&#x27;,\n",
       "                random_state=1)</pre><b>In a Jupyter environment, please rerun this cell to show the HTML representation or trust the notebook. <br />On GitHub, the HTML representation is unable to render, please try loading this page with nbviewer.org.</b></div><div class=\"sk-container\" hidden><div class=\"sk-item sk-dashed-wrapped\"><div class=\"sk-label-container\"><div class=\"sk-label sk-toggleable\"><input class=\"sk-toggleable__control sk-hidden--visually\" id=\"sk-estimator-id-1\" type=\"checkbox\" ><label for=\"sk-estimator-id-1\" class=\"sk-toggleable__label sk-toggleable__label-arrow\">MapieClassifier</label><div class=\"sk-toggleable__content\"><pre>MapieClassifier(cv=&#x27;prefit&#x27;, estimator=GaussianNB(), method=&#x27;cumulated_score&#x27;,\n",
       "                random_state=1)</pre></div></div></div><div class=\"sk-parallel\"><div class=\"sk-parallel-item\"><div class=\"sk-item\"><div class=\"sk-label-container\"><div class=\"sk-label sk-toggleable\"><input class=\"sk-toggleable__control sk-hidden--visually\" id=\"sk-estimator-id-2\" type=\"checkbox\" ><label for=\"sk-estimator-id-2\" class=\"sk-toggleable__label sk-toggleable__label-arrow\">estimator: GaussianNB</label><div class=\"sk-toggleable__content\"><pre>GaussianNB()</pre></div></div></div><div class=\"sk-serial\"><div class=\"sk-item\"><div class=\"sk-estimator sk-toggleable\"><input class=\"sk-toggleable__control sk-hidden--visually\" id=\"sk-estimator-id-3\" type=\"checkbox\" ><label for=\"sk-estimator-id-3\" class=\"sk-toggleable__label sk-toggleable__label-arrow\">GaussianNB</label><div class=\"sk-toggleable__content\"><pre>GaussianNB()</pre></div></div></div></div></div></div></div></div></div></div>"
      ],
      "text/plain": [
       "MapieClassifier(cv='prefit', estimator=GaussianNB(), method='cumulated_score',\n",
       "                random_state=1)"
      ]
     },
     "execution_count": 20,
     "metadata": {},
     "output_type": "execute_result"
    }
   ],
   "source": [
    "mapie_score= MapieClassifier(model, cv=\"prefit\",method =\"cumulated_score\",random_state=1)\n",
    "mapie_score.fit(X_calib,y_calib)"
   ]
  },
  {
   "cell_type": "markdown",
   "metadata": {},
   "source": [
    "### last label included"
   ]
  },
  {
   "cell_type": "code",
   "execution_count": 21,
   "metadata": {},
   "outputs": [
    {
     "name": "stdout",
     "output_type": "stream",
     "text": [
      "Coverage: 95.59%/n Average set size:  1.81\n",
      "      class  coverage  avg. set size\n",
      "0  BARBUNYA  0.954248       2.111111\n",
      "1    BOMBAY  1.000000       1.000000\n",
      "2      CALI  0.966667       2.105556\n",
      "3  DERMASON  0.964706       1.491765\n",
      "4     HOROZ  0.922449       1.783673\n",
      "5     SEKER  0.962656       1.987552\n",
      "6      SIRA  0.950331       1.993377\n"
     ]
    }
   ],
   "source": [
    "y_pred, y_set = mapie_score.predict(X_new,alpha=0.05,include_last_label=True)\n",
    "y_set= np.squeeze(y_set)\n",
    "#check convergence\n",
    "cov= classification_coverage_score(y_new,y_set)\n",
    "setsize= classification_mean_width_score(y_set)\n",
    "print(f\"Coverage:{cov: .2%}/n Average set size: {setsize: .2f}\")\n",
    "print(class_wise_performance(y_new,y_set,le.classes_))"
   ]
  },
  {
   "cell_type": "markdown",
   "metadata": {},
   "source": [
    "### last label excluded"
   ]
  },
  {
   "cell_type": "code",
   "execution_count": 22,
   "metadata": {},
   "outputs": [
    {
     "name": "stdout",
     "output_type": "stream",
     "text": [
      "Coverage: 80.51%/n Average set size:  1.13\n",
      "      class  coverage  avg. set size\n",
      "0  BARBUNYA  0.529412       1.124183\n",
      "1    BOMBAY  1.000000       1.000000\n",
      "2      CALI  0.800000       1.105556\n",
      "3  DERMASON  0.905882       1.145882\n",
      "4     HOROZ  0.759184       1.167347\n",
      "5     SEKER  0.726141       1.087137\n",
      "6      SIRA  0.864238       1.149007\n"
     ]
    }
   ],
   "source": [
    "y_pred, y_set = mapie_score.predict(X_new,alpha=0.05,include_last_label=False)\n",
    "y_set= np.squeeze(y_set)\n",
    "#check convergence\n",
    "cov= classification_coverage_score(y_new,y_set)\n",
    "setsize= classification_mean_width_score(y_set)\n",
    "print(f\"Coverage:{cov: .2%}/n Average set size: {setsize: .2f}\")\n",
    "print(class_wise_performance(y_new,y_set,le.classes_))"
   ]
  },
  {
   "cell_type": "markdown",
   "metadata": {},
   "source": [
    "### include last label at random"
   ]
  },
  {
   "cell_type": "code",
   "execution_count": 23,
   "metadata": {},
   "outputs": [
    {
     "name": "stdout",
     "output_type": "stream",
     "text": [
      "Coverage: 94.72%/n Average set size:  1.78\n",
      "      class  coverage  avg. set size\n",
      "0  BARBUNYA  0.954248       2.117647\n",
      "1    BOMBAY  1.000000       2.000000\n",
      "2      CALI  0.961111       2.094444\n",
      "3  DERMASON  0.948235       1.428235\n",
      "4     HOROZ  0.910204       1.738776\n",
      "5     SEKER  0.950207       1.834025\n",
      "6      SIRA  0.950331       1.837748\n"
     ]
    }
   ],
   "source": [
    "y_pred, y_set = mapie_score.predict(X_new,alpha=0.05,include_last_label=\"randomized\")\n",
    "y_set= np.squeeze(y_set)\n",
    "#check convergence\n",
    "cov= classification_coverage_score(y_new,y_set)\n",
    "setsize= classification_mean_width_score(y_set)\n",
    "print(f\"Coverage:{cov: .2%}/n Average set size: {setsize: .2f}\")\n",
    "print(class_wise_performance(y_new,y_set,le.classes_))"
   ]
  },
  {
   "cell_type": "markdown",
   "metadata": {},
   "source": [
    "## top-k method for fixed size sets\n",
    "\n",
    "the top-k method was introduced by angelopoulos et al in 2020. it follows the same conformal classification recipe as APS and the score method but uses a different non-conformity score. Top-k uses only the rank of the true class instead of the probability outcome. Thee higher the rank of the true class, the less certain the model classification was. As a consequence, all the prediction sets have the same size, with the expection of cases were multiple classes have the same probability, in that case the set consider all of them together, thus leading to some set having a higher number of classes than the threshold.\n",
    "furthermore, since top-k method can only cut at distinct points, the coverage will not be exactly 1- $\\alpha$"
   ]
  },
  {
   "cell_type": "code",
   "execution_count": 24,
   "metadata": {},
   "outputs": [
    {
     "name": "stdout",
     "output_type": "stream",
     "text": [
      "Coverage: 98.63%/n Average set size:  3.52\n",
      "      class  coverage  avg. set size\n",
      "0  BARBUNYA  0.980392       3.418301\n",
      "1    BOMBAY  1.000000       7.000000\n",
      "2      CALI  0.994444       3.555556\n",
      "3  DERMASON  1.000000       3.960000\n",
      "4     HOROZ  0.959184       3.000000\n",
      "5     SEKER  0.975104       3.000000\n",
      "6      SIRA  0.993377       3.000000\n"
     ]
    }
   ],
   "source": [
    "mapie_score= MapieClassifier(model, cv=\"prefit\",method =\"top_k\",random_state=1)\n",
    "mapie_score.fit(X_calib,y_calib)\n",
    "y_pred, y_set = mapie_score.predict(X_new,alpha=0.05,include_last_label=\"randomized\")\n",
    "y_set= np.squeeze(y_set)\n",
    "#check convergence\n",
    "cov= classification_coverage_score(y_new,y_set)\n",
    "setsize= classification_mean_width_score(y_set)\n",
    "print(f\"Coverage:{cov: .2%}/n Average set size: {setsize: .2f}\")\n",
    "print(class_wise_performance(y_new,y_set,le.classes_))"
   ]
  },
  {
   "cell_type": "markdown",
   "metadata": {},
   "source": [
    "## Regularized APS or RAPS\n",
    "the aps method tend to produce rather large prediction sets, especially of there are more than a handful of possible classes because there is the possibility that there is a long tail of classes with low probability. RAPS fixes this problem by introducting regularization. The regularization is based on 2 parameters $\\lambda$ and $k_{reg}$. All classes with a rank higher than $k_{reg}$  get a penalty term proportional to $lambda$. Such penalty term is realized in the form of an additional probability that is added to the pseudo probability given by the model"
   ]
  },
  {
   "cell_type": "code",
   "execution_count": 25,
   "metadata": {},
   "outputs": [
    {
     "name": "stdout",
     "output_type": "stream",
     "text": [
      "Coverage: 94.72%/n Average set size:  1.82\n",
      "      class  coverage  avg. set size\n",
      "0  BARBUNYA  0.954248       2.045752\n",
      "1    BOMBAY  1.000000       2.000000\n",
      "2      CALI  0.961111       2.077778\n",
      "3  DERMASON  0.945882       1.449412\n",
      "4     HOROZ  0.910204       1.746939\n",
      "5     SEKER  0.954357       1.950207\n",
      "6      SIRA  0.950331       1.996689\n"
     ]
    }
   ],
   "source": [
    "mapie_score= MapieClassifier(model, cv=\"prefit\",method =\"raps\",random_state=1)\n",
    "mapie_score.fit(X_calib,y_calib,size_raps=0.2)## notice the new keyword size_raps\n",
    "y_pred, y_set = mapie_score.predict(X_new,alpha=0.05,include_last_label=\"randomized\")\n",
    "y_set= np.squeeze(y_set)\n",
    "#check convergence\n",
    "cov= classification_coverage_score(y_new,y_set)\n",
    "setsize= classification_mean_width_score(y_set)\n",
    "print(f\"Coverage:{cov: .2%}/n Average set size: {setsize: .2f}\")\n",
    "print(class_wise_performance(y_new,y_set,le.classes_))"
   ]
  },
  {
   "cell_type": "markdown",
   "metadata": {},
   "source": [
    "## Group balanced conformal prediction\n",
    "APS and RAPS  get you closer to conditional coverage  when compared to either the native method or the score method, but by now mean they assure that coverage holds for every data point or subset of data points. In the case when we have a specific group of data for which we want to guarantee coverage we can use group-balanced conformal prediction.\n",
    "The idea behind group-balaned conformal prediction is to divide the data into groups and perform the conformal prediction separately for each group. This requires that you know the groups before predictions, so it doesn't work if we want to split by the feature that we want to predict (ie, classes). One side effect of this technique is that the calibration data must be split by the number of groups upon which we want to apply conformal prediction. This means that if we have few data points in total, each group's calibration set may become too small and unreliable.\n",
    "As an example, let's apply group-conformal prediction to all the beans whose area is smalle than 70000."
   ]
  },
  {
   "cell_type": "code",
   "execution_count": 26,
   "metadata": {},
   "outputs": [
    {
     "name": "stderr",
     "output_type": "stream",
     "text": [
      "d:\\Users\\Pasqu\\anaconda3\\envs\\conform\\Lib\\site-packages\\mapie\\classification.py:1031: UserWarning: WARNING: your calibration dataset has less labels than your training dataset (training has 7 unique labels while calibration have 6 unique labels\n",
      "  warnings.warn(\n"
     ]
    },
    {
     "data": {
      "text/html": [
       "<style>#sk-container-id-2 {color: black;}#sk-container-id-2 pre{padding: 0;}#sk-container-id-2 div.sk-toggleable {background-color: white;}#sk-container-id-2 label.sk-toggleable__label {cursor: pointer;display: block;width: 100%;margin-bottom: 0;padding: 0.3em;box-sizing: border-box;text-align: center;}#sk-container-id-2 label.sk-toggleable__label-arrow:before {content: \"▸\";float: left;margin-right: 0.25em;color: #696969;}#sk-container-id-2 label.sk-toggleable__label-arrow:hover:before {color: black;}#sk-container-id-2 div.sk-estimator:hover label.sk-toggleable__label-arrow:before {color: black;}#sk-container-id-2 div.sk-toggleable__content {max-height: 0;max-width: 0;overflow: hidden;text-align: left;background-color: #f0f8ff;}#sk-container-id-2 div.sk-toggleable__content pre {margin: 0.2em;color: black;border-radius: 0.25em;background-color: #f0f8ff;}#sk-container-id-2 input.sk-toggleable__control:checked~div.sk-toggleable__content {max-height: 200px;max-width: 100%;overflow: auto;}#sk-container-id-2 input.sk-toggleable__control:checked~label.sk-toggleable__label-arrow:before {content: \"▾\";}#sk-container-id-2 div.sk-estimator input.sk-toggleable__control:checked~label.sk-toggleable__label {background-color: #d4ebff;}#sk-container-id-2 div.sk-label input.sk-toggleable__control:checked~label.sk-toggleable__label {background-color: #d4ebff;}#sk-container-id-2 input.sk-hidden--visually {border: 0;clip: rect(1px 1px 1px 1px);clip: rect(1px, 1px, 1px, 1px);height: 1px;margin: -1px;overflow: hidden;padding: 0;position: absolute;width: 1px;}#sk-container-id-2 div.sk-estimator {font-family: monospace;background-color: #f0f8ff;border: 1px dotted black;border-radius: 0.25em;box-sizing: border-box;margin-bottom: 0.5em;}#sk-container-id-2 div.sk-estimator:hover {background-color: #d4ebff;}#sk-container-id-2 div.sk-parallel-item::after {content: \"\";width: 100%;border-bottom: 1px solid gray;flex-grow: 1;}#sk-container-id-2 div.sk-label:hover label.sk-toggleable__label {background-color: #d4ebff;}#sk-container-id-2 div.sk-serial::before {content: \"\";position: absolute;border-left: 1px solid gray;box-sizing: border-box;top: 0;bottom: 0;left: 50%;z-index: 0;}#sk-container-id-2 div.sk-serial {display: flex;flex-direction: column;align-items: center;background-color: white;padding-right: 0.2em;padding-left: 0.2em;position: relative;}#sk-container-id-2 div.sk-item {position: relative;z-index: 1;}#sk-container-id-2 div.sk-parallel {display: flex;align-items: stretch;justify-content: center;background-color: white;position: relative;}#sk-container-id-2 div.sk-item::before, #sk-container-id-2 div.sk-parallel-item::before {content: \"\";position: absolute;border-left: 1px solid gray;box-sizing: border-box;top: 0;bottom: 0;left: 50%;z-index: -1;}#sk-container-id-2 div.sk-parallel-item {display: flex;flex-direction: column;z-index: 1;position: relative;background-color: white;}#sk-container-id-2 div.sk-parallel-item:first-child::after {align-self: flex-end;width: 50%;}#sk-container-id-2 div.sk-parallel-item:last-child::after {align-self: flex-start;width: 50%;}#sk-container-id-2 div.sk-parallel-item:only-child::after {width: 0;}#sk-container-id-2 div.sk-dashed-wrapped {border: 1px dashed gray;margin: 0 0.4em 0.5em 0.4em;box-sizing: border-box;padding-bottom: 0.4em;background-color: white;}#sk-container-id-2 div.sk-label label {font-family: monospace;font-weight: bold;display: inline-block;line-height: 1.2em;}#sk-container-id-2 div.sk-label-container {text-align: center;}#sk-container-id-2 div.sk-container {/* jupyter's `normalize.less` sets `[hidden] { display: none; }` but bootstrap.min.css set `[hidden] { display: none !important; }` so we also need the `!important` here to be able to override the default hidden behavior on the sphinx rendered scikit-learn.org. See: https://github.com/scikit-learn/scikit-learn/issues/21755 */display: inline-block !important;position: relative;}#sk-container-id-2 div.sk-text-repr-fallback {display: none;}</style><div id=\"sk-container-id-2\" class=\"sk-top-container\"><div class=\"sk-text-repr-fallback\"><pre>MapieClassifier(cv=&#x27;prefit&#x27;, estimator=GaussianNB(), method=&#x27;score&#x27;)</pre><b>In a Jupyter environment, please rerun this cell to show the HTML representation or trust the notebook. <br />On GitHub, the HTML representation is unable to render, please try loading this page with nbviewer.org.</b></div><div class=\"sk-container\" hidden><div class=\"sk-item sk-dashed-wrapped\"><div class=\"sk-label-container\"><div class=\"sk-label sk-toggleable\"><input class=\"sk-toggleable__control sk-hidden--visually\" id=\"sk-estimator-id-4\" type=\"checkbox\" ><label for=\"sk-estimator-id-4\" class=\"sk-toggleable__label sk-toggleable__label-arrow\">MapieClassifier</label><div class=\"sk-toggleable__content\"><pre>MapieClassifier(cv=&#x27;prefit&#x27;, estimator=GaussianNB(), method=&#x27;score&#x27;)</pre></div></div></div><div class=\"sk-parallel\"><div class=\"sk-parallel-item\"><div class=\"sk-item\"><div class=\"sk-label-container\"><div class=\"sk-label sk-toggleable\"><input class=\"sk-toggleable__control sk-hidden--visually\" id=\"sk-estimator-id-5\" type=\"checkbox\" ><label for=\"sk-estimator-id-5\" class=\"sk-toggleable__label sk-toggleable__label-arrow\">estimator: GaussianNB</label><div class=\"sk-toggleable__content\"><pre>GaussianNB()</pre></div></div></div><div class=\"sk-serial\"><div class=\"sk-item\"><div class=\"sk-estimator sk-toggleable\"><input class=\"sk-toggleable__control sk-hidden--visually\" id=\"sk-estimator-id-6\" type=\"checkbox\" ><label for=\"sk-estimator-id-6\" class=\"sk-toggleable__label sk-toggleable__label-arrow\">GaussianNB</label><div class=\"sk-toggleable__content\"><pre>GaussianNB()</pre></div></div></div></div></div></div></div></div></div></div>"
      ],
      "text/plain": [
       "MapieClassifier(cv='prefit', estimator=GaussianNB(), method='score')"
      ]
     },
     "execution_count": 26,
     "metadata": {},
     "output_type": "execute_result"
    },
    {
     "data": {
      "image/png": "[encoded data removed]",
      "text/plain": [
       "<Figure size 640x480 with 1 Axes>"
      ]
     },
     "metadata": {},
     "output_type": "display_data"
    }
   ],
   "source": [
    "X.Area.hist(bins=100)\n",
    "small_bean_index= X_calib.Area<70000\n",
    "X_calib_group= X_calib[small_bean_index]\n",
    "y_calib_group= y_calib[small_bean_index]\n",
    "mapie_group= MapieClassifier(model,cv=\"prefit\",method=\"score\")\n",
    "mapie_group.fit(X_calib_group,y_calib_group)"
   ]
  },
  {
   "cell_type": "code",
   "execution_count": 27,
   "metadata": {},
   "outputs": [
    {
     "name": "stdout",
     "output_type": "stream",
     "text": [
      "[0.99730024]\n"
     ]
    }
   ],
   "source": [
    "group_index= X_new.Area < 70000\n",
    "X_group = X_new[group_index]\n",
    "y_pred,y_set = mapie_group.predict(X_group,alpha=0.05)\n",
    "print(mapie_group.quantiles_)\n"
   ]
  },
  {
   "cell_type": "markdown",
   "metadata": {},
   "source": [
    "## Class-conditional APS (CCAPS) for coverage by class\n",
    "CCAPS is an approach to guarantee 1-$alpha$ coverage of prediction sets per class. This is a useful proerty to have in many cases, as it makes the conformal prediction much more adaptive and gives equal attention to each class,bypassing the problem of class imbalance.\n",
    "The calibration step is the same as for group-balanced conformal prediction, and we use class as the grouping variable.\n",
    "In the prediction step instead we don't know the true classes for the new data. The solution, given by Derhacobian et al(2020), consists in applying all resulting classes conformal predictions, and then the prediction set is the union of all conformal classes. This translate in picking the highest quantile threshold among those calculated per class. This choice guarantee that we have a coverage of $>= 1-\\alpha$. However, this also means that for some classes the coverage is much higher, thus producing large prediction sets."
   ]
  },
  {
   "cell_type": "code",
   "execution_count": 28,
   "metadata": {},
   "outputs": [],
   "source": [
    "# grouping classes\n",
    "groups_dict= {}\n",
    "for i in range(1,len(le.classes_)):\n",
    "    groups_dict[i] = (X_calib[y_calib.values==i],y_calib[y_calib.values==i])\n",
    "\n"
   ]
  },
  {
   "cell_type": "code",
   "execution_count": 29,
   "metadata": {},
   "outputs": [
    {
     "name": "stdout",
     "output_type": "stream",
     "text": [
      "0.9996367204988864\n"
     ]
    },
    {
     "name": "stderr",
     "output_type": "stream",
     "text": [
      "d:\\Users\\Pasqu\\anaconda3\\envs\\conform\\Lib\\site-packages\\mapie\\classification.py:1031: UserWarning: WARNING: your calibration dataset has less labels than your training dataset (training has 7 unique labels while calibration have 1 unique labels\n",
      "  warnings.warn(\n",
      "d:\\Users\\Pasqu\\anaconda3\\envs\\conform\\Lib\\site-packages\\mapie\\classification.py:1031: UserWarning: WARNING: your calibration dataset has less labels than your training dataset (training has 7 unique labels while calibration have 1 unique labels\n",
      "  warnings.warn(\n",
      "d:\\Users\\Pasqu\\anaconda3\\envs\\conform\\Lib\\site-packages\\mapie\\classification.py:1031: UserWarning: WARNING: your calibration dataset has less labels than your training dataset (training has 7 unique labels while calibration have 1 unique labels\n",
      "  warnings.warn(\n",
      "d:\\Users\\Pasqu\\anaconda3\\envs\\conform\\Lib\\site-packages\\mapie\\classification.py:1031: UserWarning: WARNING: your calibration dataset has less labels than your training dataset (training has 7 unique labels while calibration have 1 unique labels\n",
      "  warnings.warn(\n",
      "d:\\Users\\Pasqu\\anaconda3\\envs\\conform\\Lib\\site-packages\\mapie\\classification.py:1031: UserWarning: WARNING: your calibration dataset has less labels than your training dataset (training has 7 unique labels while calibration have 1 unique labels\n",
      "  warnings.warn(\n",
      "d:\\Users\\Pasqu\\anaconda3\\envs\\conform\\Lib\\site-packages\\mapie\\classification.py:1031: UserWarning: WARNING: your calibration dataset has less labels than your training dataset (training has 7 unique labels while calibration have 1 unique labels\n",
      "  warnings.warn(\n"
     ]
    }
   ],
   "source": [
    "# grouping classes\n",
    "quantiles=[]\n",
    "sets = []\n",
    "for i in range(1,len(le.classes_)):\n",
    "    mapie_group= MapieClassifier(model,cv=\"prefit\",method=\"score\")\n",
    "    mapie_group.fit(groups_dict[i][0],groups_dict[i][1] )\n",
    "    y_pred,y_set = mapie_group.predict(X_new,alpha=0.05)\n",
    "    sets.append(np.squeeze(y_set))\n",
    "    quantiles.append(mapie_group.quantiles_[0])\n",
    "print(max(quantiles))"
   ]
  },
  {
   "cell_type": "code",
   "execution_count": 30,
   "metadata": {},
   "outputs": [
    {
     "name": "stdout",
     "output_type": "stream",
     "text": [
      "Coverage: 96.21%/n Average set size:  1.91\n",
      "      class  coverage  avg. set size\n",
      "0  BARBUNYA  0.967320       2.176471\n",
      "1    BOMBAY  1.000000       1.000000\n",
      "2      CALI  0.972222       2.150000\n",
      "3  DERMASON  0.971765       1.557647\n",
      "4     HOROZ  0.934694       1.922449\n",
      "5     SEKER  0.966805       2.157676\n",
      "6      SIRA  0.950331       2.142384\n"
     ]
    }
   ],
   "source": [
    "result = np.logical_or.reduce(sets, axis=0)\n",
    "cov= classification_coverage_score(y_new,result)\n",
    "setsize= classification_mean_width_score(result)\n",
    "print(f\"Coverage:{cov: .2%}/n Average set size: {setsize: .2f}\")\n",
    "print(class_wise_performance(y_new,result,le.classes_))"
   ]
  },
  {
   "cell_type": "markdown",
   "metadata": {},
   "source": [
    "## Guide for conformal prediction  in classification problems\n",
    "\n",
    "the author make some raccomendations about what criteria use depending on our necessities:\n",
    "\n",
    "- we need fixed prediction sets -> use top-k\n",
    "- we don't care about conditional coverage-> score method since it's the simpliest (excluding the naive method which doesn't work)\n",
    "- we don't care about conditional coverage as long as the coverage per group is guaranteed-> either group-balanced conformal prediction or (APS and RAPS), depending if we have enough data or not.\n",
    "- we don't care about conditional coverage as long as each class has guaranteed coverage-> APS or RAPS, depending if we have few classes(APS) or not.\n"
   ]
  }
 ],
 "metadata": {
  "kernelspec": {
   "display_name": "conformal_env",
   "language": "python",
   "name": "python3"
  },
  "language_info": {
   "codemirror_mode": {
    "name": "ipython",
    "version": 3
   },
   "file_extension": ".py",
   "mimetype": "text/x-python",
   "name": "python",
   "nbconvert_exporter": "python",
   "pygments_lexer": "ipython3",
   "version": "3.12.1"
  }
 },
 "nbformat": 4,
 "nbformat_minor": 2
}
